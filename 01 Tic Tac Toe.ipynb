{
 "cells": [
  {
   "cell_type": "code",
   "execution_count": 1,
   "id": "2d74a582-b634-4a6e-b92b-ea7515624ec3",
   "metadata": {},
   "outputs": [],
   "source": [
    "# Declare Global Variables\n",
    "board = ['','','','','','','','','']\n",
    "game = True\n",
    "count = 0\n",
    "player_1 = True\n",
    "player_2 = True\n",
    "position = 0\n",
    "winner = ''"
   ]
  },
  {
   "cell_type": "code",
   "execution_count": 2,
   "id": "409c52c6-69ea-4975-94a3-449cb219ab0c",
   "metadata": {},
   "outputs": [],
   "source": [
    "# Display Board\n",
    "def display_board():\n",
    "    print(board[0],' |',board[1],' |',board[2])\n",
    "    print('--*---*--')\n",
    "    print(board[3],' |',board[4],' |',board[5])\n",
    "    print('--*---*--')\n",
    "    print(board[6],' |',board[7],' |',board[8])\n"
   ]
  },
  {
   "cell_type": "code",
   "execution_count": 3,
   "id": "8c821346-fd4c-4fce-8354-92233fcd4f5b",
   "metadata": {},
   "outputs": [],
   "source": [
    "# here we check winning condition\n",
    "def check_winner():\n",
    "    \n",
    "    global board\n",
    "    global winner\n",
    "    \n",
    "    # Check Row Wise\n",
    "    if board[0]==board[1]==board[2] != '':\n",
    "        winner = board[0]\n",
    "    if board[3]==board[4]==board[5] != '':\n",
    "        winner = board[3]\n",
    "    if board[6]==board[7]==board[8] != '':\n",
    "        winner = board[6]\n",
    "\n",
    "    # Check Column Wise\n",
    "    if board[0]==board[3]==board[6] != '':\n",
    "        winner = board[0]\n",
    "    if board[1]==board[4]==board[7] != '':\n",
    "        winner = board[1]\n",
    "    if board[2]==board[5]==board[8] != '':\n",
    "        winner = board[2]\n",
    "\n",
    "    # check_diagonal\n",
    "    if board[0]==board[4]==board[8] != '':\n",
    "        winner = board[0]\n",
    "    if board[6]==board[4]==board[2] != '':\n",
    "        winner = board[6]\n",
    "        "
   ]
  },
  {
   "cell_type": "code",
   "execution_count": 4,
   "id": "82f5283f-a670-400b-9f60-be1620344835",
   "metadata": {},
   "outputs": [],
   "source": [
    "# Randomly pick chance of which player should go first\n",
    "def changing_player():\n",
    "    \n",
    "    global player_1\n",
    "    global player_2\n",
    "    \n",
    "    from random import randint\n",
    "    change = randint(1,2)\n",
    "    \n",
    "    if change == 1:\n",
    "        player_1 = True\n",
    "        player_2 = False\n",
    "    elif change == 2:\n",
    "        player_1 = False\n",
    "        player_2 = True\n"
   ]
  },
  {
   "cell_type": "code",
   "execution_count": 5,
   "id": "1f584b48-9896-4a7f-ace5-54a282477135",
   "metadata": {},
   "outputs": [],
   "source": [
    "# Player Input Functions\n",
    "def player_input():\n",
    "    global board\n",
    "    global game\n",
    "    global count\n",
    "    global player_1\n",
    "    global player_2\n",
    "    global position\n",
    "    global winner\n",
    "    \n",
    "    changing_player()\n",
    "    \n",
    "    while game:\n",
    "        while player_1:\n",
    "            \n",
    "            # Take position for player 'X'\n",
    "            position = input(\"Enter position of X\")\n",
    "            while (position=='' or int(position) not in range(0,9)):\n",
    "                print(\"Wrong input, please re-enter the position \")\n",
    "                position = input()\n",
    "                pass\n",
    "            position = int(position)\n",
    "            \n",
    "            # Check if position is empty\n",
    "            if board[position]=='':\n",
    "                board[position] = 'X'\n",
    "                display_board()\n",
    "                count += 1\n",
    "                player_1 = False\n",
    "                player_2 = True\n",
    "                check_winner()    # Check for winner\n",
    "                if winner == 'X':\n",
    "                    player_2 = False\n",
    "                    print(\"Winner is player X\")\n",
    "                    game = False\n",
    "                    break\n",
    "                if count == 9:    #Tie Condition\n",
    "                    print(\"Game is tied..\")\n",
    "                    player_2 = False\n",
    "                    game = False\n",
    "                    break\n",
    "            else:\n",
    "                print(\"Position is not empty\")\n",
    "        while player_2:\n",
    "            \n",
    "            # Take position for player 'Y'\n",
    "            position = input(\"Enter position of Y\")\n",
    "            while (position=='' or int(position) not in range(0,9)):\n",
    "                print(\"Wrong input, please re-enter the position \")\n",
    "                position = input()\n",
    "            position = int(position)\n",
    "            \n",
    "            # Check if position is empty\n",
    "            if board[position]=='':\n",
    "                board[position] = 'Y'\n",
    "                display_board()\n",
    "                count += 1\n",
    "                player_1 = True\n",
    "                player_2 = False\n",
    "                check_winner()    # Check for winner\n",
    "                if winner == 'Y':\n",
    "                    player_1 = False\n",
    "                    print(\"Winner is player Y\")\n",
    "                    game = False\n",
    "                    break\n",
    "                if count == 9:    #Tie Condition\n",
    "                    print(\"Game is tied..\")\n",
    "                    player_1 = False\n",
    "                    game = False\n",
    "                    break                \n",
    "            else:\n",
    "                print(\"Position is not empty\")\n",
    "\n",
    "    "
   ]
  },
  {
   "cell_type": "code",
   "execution_count": 6,
   "id": "aad00586-b4eb-4bb2-8e62-ded129f1a2cf",
   "metadata": {},
   "outputs": [],
   "source": [
    "# Reset Board\n",
    "def reset_game():\n",
    "    global board\n",
    "    global game\n",
    "    global count\n",
    "    global player_1\n",
    "    global player_2\n",
    "    global position\n",
    "    global winner\n",
    "    \n",
    "    board = ['','','','','','','','','']\n",
    "    game = True\n",
    "    count = 0\n",
    "    player_1 = True\n",
    "    player_2 = True\n",
    "    position = 0\n",
    "    winner = ''\n"
   ]
  },
  {
   "cell_type": "code",
   "execution_count": 9,
   "id": "6fcd9004-66da-4387-8b1f-9c36ebecd41a",
   "metadata": {},
   "outputs": [
    {
     "name": "stdout",
     "output_type": "stream",
     "text": [
      "Y  | X  | \n",
      "--*---*--\n",
      "Y  |   | X\n",
      "--*---*--\n",
      "Y  |   | \n"
     ]
    },
    {
     "name": "stdin",
     "output_type": "stream",
     "text": [
      "To Play again, enter 1 0\n"
     ]
    }
   ],
   "source": [
    "# Start Game\n",
    "def game_start():\n",
    "    play_again = 1\n",
    "    while(play_again == 1):\n",
    "        display_board()\n",
    "        player_input()\n",
    "        play_again = int(input(\"To Play again, enter 1\"))\n",
    "        if (play_again ==1):\n",
    "            reset_game()\n",
    "        else:\n",
    "            break\n",
    "game_start()"
   ]
  },
  {
   "cell_type": "markdown",
   "id": "32f7aa30-9bdd-4586-8958-a6ebc95dd281",
   "metadata": {},
   "source": [
    "# "
   ]
  },
  {
   "cell_type": "code",
   "execution_count": null,
   "id": "27db57b4-673a-4dee-ad15-cc97de442dd5",
   "metadata": {},
   "outputs": [],
   "source": []
  }
 ],
 "metadata": {
  "kernelspec": {
   "display_name": "Python 3 (ipykernel)",
   "language": "python",
   "name": "python3"
  },
  "language_info": {
   "codemirror_mode": {
    "name": "ipython",
    "version": 3
   },
   "file_extension": ".py",
   "mimetype": "text/x-python",
   "name": "python",
   "nbconvert_exporter": "python",
   "pygments_lexer": "ipython3",
   "version": "3.9.7"
  }
 },
 "nbformat": 4,
 "nbformat_minor": 5
}
